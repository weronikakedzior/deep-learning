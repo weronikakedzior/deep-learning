{
 "cells": [
  {
   "cell_type": "code",
   "execution_count": 1,
   "metadata": {
    "id": "1mtK7AcO9XvV"
   },
   "outputs": [],
   "source": [
    "#imports \n",
    "import tensorflow as tf\n",
    "import abc\n",
    "import tensorflow_addons as tfa\n",
    "import numpy as np\n",
    "from sklearn.model_selection import train_test_split\n",
    "import time\n",
    "import pandas as pd\n",
    "import random\n",
    "from sklearn.metrics import f1_score, accuracy_score\n",
    "import matplotlib.pyplot as plt"
   ]
  },
  {
   "cell_type": "code",
   "execution_count": 2,
   "metadata": {
    "id": "COn2J-qo9hcR"
   },
   "outputs": [],
   "source": [
    "def create_train_test_x_y(num_words):\n",
    "    (X, y), (x_test, y_test) = tf.keras.datasets.reuters.load_data(num_words=num_words, test_split = 0)\n",
    "    dataset_df = pd.DataFrame(columns=['x', 'y']) \n",
    "    dataset_df['x'] = X\n",
    "    dataset_df['y'] = y\n",
    "    top_classes = dataset_df['y'].value_counts()[:10].index.tolist()\n",
    "    dataset_df = dataset_df[dataset_df['y'].isin(top_classes)].reset_index(drop=True)\n",
    "    map_dict = dict(zip(top_classes, list(range(10))))\n",
    "    dataset_df['y'] = dataset_df['y'].map(map_dict)\n",
    "    x_train, x_test, y_train, y_test = train_test_split(dataset_df['x'], dataset_df['y'], test_size=0.2, random_state=42)\n",
    "    return x_train, x_test, y_train, y_test\n"
   ]
  },
  {
   "cell_type": "code",
   "execution_count": 3,
   "metadata": {
    "colab": {
     "base_uri": "https://localhost:8080/"
    },
    "id": "G53gvYC99mUv",
    "outputId": "d385c12f-69f3-4efd-f04e-44f2461f66a6"
   },
   "outputs": [
    {
     "name": "stdout",
     "output_type": "stream",
     "text": [
      "Downloading data from https://storage.googleapis.com/tensorflow/tf-keras-datasets/reuters.npz\n",
      "2113536/2110848 [==============================] - 0s 0us/step\n"
     ]
    }
   ],
   "source": [
    "def create_ds(X, y, max_length=64, batch_size=100):\n",
    "    X = tf.keras.preprocessing.sequence.pad_sequences(X, padding='post', maxlen=max_length)\n",
    "    dataset = tf.data.Dataset.from_tensor_slices((X, y)) \n",
    "    dataset = dataset.shuffle(buffer_size=len(X)).batch(batch_size=batch_size)\n",
    "    return dataset\n",
    "\n",
    "x_train, x_test, y_train, y_test = create_train_test_x_y(2000)\n",
    "train_ds = create_ds(x_train,y_train)\n",
    "test_ds = create_ds(x_test,y_test)"
   ]
  },
  {
   "cell_type": "code",
   "execution_count": 4,
   "metadata": {
    "id": "rXFUqygb9q1R"
   },
   "outputs": [],
   "source": [
    "class WordEmbeddingLayer(tf.keras.layers.Layer):\n",
    "\n",
    "    def __init__(self, words_len, embed_size):\n",
    "        super(WordEmbeddingLayer, self).__init__()\n",
    "        self.words_len = words_len\n",
    "        self.embed_size = embed_size   \n",
    "        self.embeddings = tf.Variable(tf.random.uniform([self.words_len, self.embed_size]))\n",
    "        \n",
    "    def __call__(self, inputs):   \n",
    "        return tf.nn.embedding_lookup(self.embeddings, inputs)"
   ]
  },
  {
   "cell_type": "code",
   "execution_count": 5,
   "metadata": {
    "id": "VjcPeWMG9woD"
   },
   "outputs": [],
   "source": [
    "class RNNModel(tf.keras.Model):\n",
    "    def __init__(self, words_len=2000, embed_size=500, hidden_size=10):\n",
    "        super(RNNModel, self).__init__()\n",
    "        self.hidden_size = hidden_size\n",
    "        self.embed_size = embed_size\n",
    "        self.words_len = words_len + 1\n",
    "        self.emmbedding = tf.keras.layers.Embedding(self.words_len, self.embed_size)\n",
    "        self.dense = tf.keras.layers.Dense(units=10, activation='softmax')\n",
    "        self.w = self.add_weight(shape=(self.hidden_size, self.hidden_size + self.embed_size), \n",
    "                                 initializer='truncated_normal', trainable=True)\n",
    "        self.b = self.add_weight(shape=(self.hidden_size,1), initializer='truncated_normal', trainable=True) \n",
    "\n",
    "    \n",
    "        \n",
    "    def rnn(self, x_i, h_prev):\n",
    "        x_t = tf.transpose(x_i)\n",
    "        input_and_state_concatenated = tf.concat([x_t, h_prev],0)\n",
    "        return tf.tanh(tf.matmul(self.w, input_and_state_concatenated) + self.b)\n",
    "\n",
    "    def call(self, inputs, training=False):\n",
    "        x = self.emmbedding(inputs)\n",
    "        h = tf.zeros(shape=(self.hidden_size, len(x)))\n",
    "        for i in range(x.shape[1]):\n",
    "            h = self.rnn(x[:, i], h)\n",
    "\n",
    "        return self.dense(tf.transpose(h))\n",
    "\n",
    "    def fit(self, **kwargs):\n",
    "        self.epoch_loss_train = []\n",
    "        self.epoch_f1_train = []\n",
    "        self.epoch_acc_train = []\n",
    "        self.epoch_loss_test = []\n",
    "        self.epoch_f1_test = []\n",
    "        self.epoch_acc_test = []\n",
    "        train_ds = kwargs.get(\"train_ds\", None)\n",
    "        test_ds = kwargs.get(\"test_ds\", None)\n",
    "        batch_size = kwargs.get(\"batch_size\", 100)\n",
    "        lr = kwargs.get(\"lr\", 0.001)\n",
    "        epoch_num = kwargs.get(\"epoch_num\", 10)\n",
    "        optimizer = kwargs.get(\"optimizer\", tf.keras.optimizers.Adam(learning_rate=lr))\n",
    "        cost_func = kwargs.get('cost_func', tf.keras.losses.SparseCategoricalCrossentropy())\n",
    "        acc_metrics = tf.keras.metrics.SparseCategoricalAccuracy()\n",
    "        for epoch in range(epoch_num):\n",
    "            print(\"\\nStart of epoch %d\" % (epoch,))\n",
    "            f1_train = tfa.metrics.F1Score(num_classes=10, average=\"macro\")\n",
    "            f1_test = tfa.metrics.F1Score(num_classes=10, average=\"macro\")\n",
    "            #TRAIN\n",
    "            for x, y in train_ds:\n",
    "                with tf.GradientTape() as tape:\n",
    "                    logits = self.call(x)\n",
    "                    loss = cost_func(y, logits)\n",
    "                    acc = acc_metrics(y, logits)\n",
    "                grads = tape.gradient(loss, self.trainable_weights)\n",
    "                optimizer.apply_gradients(zip(grads, self.trainable_weights))\n",
    "                f1_train.update_state(tf.squeeze(tf.one_hot(y, depth=10)), \n",
    "                                   tf.one_hot(tf.argmax(logits, axis=-1), \n",
    "                                    depth=10))\n",
    "            self.epoch_loss_train.append(loss)\n",
    "            self.epoch_acc_train.append(acc)\n",
    "            #TEST\n",
    "            for x, y in test_ds:\n",
    "                logits = self.call(x)\n",
    "                loss = cost_func(y, logits)\n",
    "                acc = acc_metrics(y, logits)\n",
    "                f1_test.update_state(tf.squeeze(tf.one_hot(y, depth=10)), \n",
    "                                   tf.one_hot(tf.argmax(logits, axis=-1), \n",
    "                                    depth=10))\n",
    "            self.epoch_loss_test.append(loss)\n",
    "            self.epoch_acc_test.append(acc)\n",
    "            self.epoch_f1_train.append(f1_train.result())\n",
    "            self.epoch_f1_test.append(f1_test.result())\n",
    "            print(\"TRAIN: Loss ={:.3f}, F1 ={:.3f}, ACC = {:.3f}\".format(self.epoch_loss_train[-1],self.epoch_f1_train[-1], self.epoch_acc_train[-1]))\n",
    "            print(\"TEST: Loss ={:.3f}, F1 ={:.3f}, ACC = {:.3f}\".format(self.epoch_loss_test[-1],self.epoch_f1_test[-1], self.epoch_acc_test[-1]))\n",
    "\n",
    "\n",
    "    def predict(self, x):\n",
    "        logits = self.call(x)\n",
    "        logits = tf.argmax(logits, axis=1)\n",
    "        return logits"
   ]
  },
  {
   "cell_type": "code",
   "execution_count": null,
   "metadata": {
    "colab": {
     "base_uri": "https://localhost:8080/"
    },
    "id": "_7l2JsfY90tZ",
    "outputId": "076c86e4-1f19-4d48-8887-8ad92c15a95f"
   },
   "outputs": [
    {
     "name": "stdout",
     "output_type": "stream",
     "text": [
      "\n",
      "Start of epoch 0\n",
      "TRAIN: Loss =1.768, F1 =0.076, ACC = 0.316\n",
      "TEST: Loss =1.919, F1 =0.059, ACC = 0.337\n",
      "\n",
      "Start of epoch 1\n",
      "TRAIN: Loss =1.860, F1 =0.059, ACC = 0.373\n",
      "TEST: Loss =2.487, F1 =0.059, ACC = 0.378\n",
      "\n",
      "Start of epoch 2\n",
      "TRAIN: Loss =1.398, F1 =0.059, ACC = 0.389\n",
      "TEST: Loss =0.924, F1 =0.059, ACC = 0.391\n",
      "\n",
      "Start of epoch 3\n",
      "TRAIN: Loss =1.780, F1 =0.059, ACC = 0.396\n",
      "TEST: Loss =2.404, F1 =0.059, ACC = 0.398\n",
      "\n",
      "Start of epoch 4\n",
      "TRAIN: Loss =1.675, F1 =0.073, ACC = 0.400\n",
      "TEST: Loss =1.487, F1 =0.059, ACC = 0.401\n",
      "\n",
      "Start of epoch 5\n",
      "TRAIN: Loss =1.402, F1 =0.079, ACC = 0.403\n",
      "TEST: Loss =2.500, F1 =0.059, ACC = 0.403\n",
      "\n",
      "Start of epoch 6\n",
      "TRAIN: Loss =2.124, F1 =0.059, ACC = 0.405\n",
      "TEST: Loss =1.412, F1 =0.059, ACC = 0.405\n",
      "\n",
      "Start of epoch 7\n",
      "TRAIN: Loss =2.464, F1 =0.069, ACC = 0.407\n",
      "TEST: Loss =1.849, F1 =0.074, ACC = 0.408\n",
      "\n",
      "Start of epoch 8\n",
      "TRAIN: Loss =1.485, F1 =0.091, ACC = 0.411\n",
      "TEST: Loss =0.809, F1 =0.092, ACC = 0.412\n",
      "\n",
      "Start of epoch 9\n",
      "TRAIN: Loss =1.487, F1 =0.121, ACC = 0.416\n",
      "TEST: Loss =2.340, F1 =0.131, ACC = 0.418\n"
     ]
    }
   ],
   "source": [
    "model = RNNModel()\n",
    "model.fit(train_ds = train_ds, test_ds = test_ds)"
   ]
  },
  {
   "cell_type": "code",
   "execution_count": 12,
   "metadata": {
    "id": "IwMkMetic1kz"
   },
   "outputs": [],
   "source": [
    "class LSTMModel(RNNModel):\n",
    "    def __init__(self, words_len=2000, embed_size=500, hidden_size=10):\n",
    "        super(RNNModel, self).__init__()\n",
    "        self.hidden_size = hidden_size\n",
    "        self.embed_size = embed_size\n",
    "        self.words_len = words_len + 1\n",
    "        self.emmbedding = tf.keras.layers.Embedding(self.words_len, self.embed_size)\n",
    "        self.dense = tf.keras.layers.Dense(units=10, activation='softmax')\n",
    "        self.w_o = self.add_weight(shape=(self.hidden_size, self.hidden_size + self.embed_size), \n",
    "                                 initializer='truncated_normal', trainable=True)\n",
    "        self.b_o = self.add_weight(shape=(self.hidden_size,1), initializer='truncated_normal', trainable=True) \n",
    "\n",
    "        self.w_i = self.add_weight(shape=(self.hidden_size, self.hidden_size + self.embed_size), \n",
    "                                 initializer='truncated_normal', trainable=True)\n",
    "        self.b_i = self.add_weight(shape=(self.hidden_size,1), initializer='truncated_normal', trainable=True) \n",
    "\n",
    "        self.w_f = self.add_weight(shape=(self.hidden_size, self.hidden_size + self.embed_size), \n",
    "                                 initializer='truncated_normal', trainable=True)\n",
    "        self.b_f = self.add_weight(shape=(self.hidden_size,1), initializer='truncated_normal', trainable=True) \n",
    "\n",
    "        self.w_c = self.add_weight(shape=(self.hidden_size, self.hidden_size + self.embed_size), \n",
    "                                 initializer='truncated_normal', trainable=True)\n",
    "        self.b_c = self.add_weight(shape=(self.hidden_size,1), initializer='truncated_normal', trainable=True) \n",
    "\n",
    "    def lstm(self, x_i, h_prev, c_prev):\n",
    "        x_t = tf.transpose(x_i)\n",
    "        f = tf.sigmoid(tf.matmul(self.w_f, tf.concat([x_t, h_prev], 0)) + self.b_f)\n",
    "        i = tf.sigmoid(tf.matmul(self.w_i, tf.concat([x_t, h_prev], 0)) + self.b_i)\n",
    "        z = tf.tanh(tf.matmul(self.w_c, tf.concat([x_t, h_prev], 0)) + self.b_c)\n",
    "        c = f * c_prev + i * z\n",
    "        o = tf.sigmoid(tf.matmul(self.w_o, tf.concat([x_t, h_prev], 0)) + self.b_o)\n",
    "        h = o * tf.tanh(c)\n",
    "        \n",
    "        return h, c\n",
    "\n",
    "    def call(self, inputs, training=False):\n",
    "        x = self.emmbedding(inputs)\n",
    "        h = tf.zeros(shape=(self.hidden_size, len(x)))\n",
    "        c = tf.zeros(shape=(self.hidden_size, len(x)))\n",
    "        for i in range(x.shape[1]):\n",
    "            h, c = self.lstm(x[:, i], h, c)\n",
    "\n",
    "        return self.dense(tf.transpose(h))\n"
   ]
  },
  {
   "cell_type": "code",
   "execution_count": null,
   "metadata": {
    "colab": {
     "base_uri": "https://localhost:8080/"
    },
    "id": "8I8Ts10rhSk3",
    "outputId": "466192d5-51ed-40ba-fe7d-837ff309ab2d"
   },
   "outputs": [
    {
     "name": "stdout",
     "output_type": "stream",
     "text": [
      "\n",
      "Start of epoch 0\n",
      "TRAIN: Loss =2.184, F1 =0.095, ACC = 0.385\n",
      "TEST: Loss =1.142, F1 =0.059, ACC = 0.393\n",
      "\n",
      "Start of epoch 1\n",
      "TRAIN: Loss =1.597, F1 =0.072, ACC = 0.407\n",
      "TEST: Loss =1.733, F1 =0.096, ACC = 0.413\n",
      "\n",
      "Start of epoch 2\n",
      "TRAIN: Loss =1.660, F1 =0.138, ACC = 0.436\n",
      "TEST: Loss =3.351, F1 =0.176, ACC = 0.446\n",
      "\n",
      "Start of epoch 3\n",
      "TRAIN: Loss =0.968, F1 =0.193, ACC = 0.482\n",
      "TEST: Loss =1.153, F1 =0.205, ACC = 0.491\n",
      "\n",
      "Start of epoch 4\n",
      "TRAIN: Loss =1.645, F1 =0.220, ACC = 0.520\n",
      "TEST: Loss =0.225, F1 =0.204, ACC = 0.525\n",
      "\n",
      "Start of epoch 5\n",
      "TRAIN: Loss =1.451, F1 =0.217, ACC = 0.546\n",
      "TEST: Loss =1.584, F1 =0.211, ACC = 0.550\n",
      "\n",
      "Start of epoch 6\n",
      "TRAIN: Loss =2.361, F1 =0.221, ACC = 0.566\n",
      "TEST: Loss =0.144, F1 =0.210, ACC = 0.569\n",
      "\n",
      "Start of epoch 7\n",
      "TRAIN: Loss =0.415, F1 =0.222, ACC = 0.581\n",
      "TEST: Loss =0.919, F1 =0.207, ACC = 0.583\n",
      "\n",
      "Start of epoch 8\n",
      "TRAIN: Loss =1.551, F1 =0.223, ACC = 0.592\n",
      "TEST: Loss =2.001, F1 =0.221, ACC = 0.594\n",
      "\n",
      "Start of epoch 9\n",
      "TRAIN: Loss =0.935, F1 =0.237, ACC = 0.603\n",
      "TEST: Loss =0.901, F1 =0.223, ACC = 0.604\n"
     ]
    }
   ],
   "source": [
    "model = LSTMModel()\n",
    "model.fit(train_ds = train_ds, test_ds = test_ds)"
   ]
  },
  {
   "cell_type": "code",
   "execution_count": 7,
   "metadata": {
    "id": "4gmSXdZxqMtl"
   },
   "outputs": [],
   "source": [
    "def run_experiments(epoch, model, max_len, words_len):\n",
    "    m = model(words_len = words_len)\n",
    "    x_train, x_test, y_train, y_test = create_train_test_x_y(words_len)\n",
    "    train_ds = create_ds(x_train, y_train, batch_size=100, max_length=max_len)\n",
    "    test_ds = create_ds(x_test, y_test, batch_size=100, max_length=max_len)\n",
    "    m.fit(train_ds = train_ds, test_ds = test_ds, epoch_num = epoch)\n",
    "    x_test = tf.keras.preprocessing.sequence.pad_sequences(x_test, padding='post', maxlen=max_len)\n",
    "    y_pred = m.predict(x_test)\n",
    "    y_true = y_test\n",
    "    f1 = f1_score(y_true, y_pred, average='macro')\n",
    "    acc = accuracy_score(y_true, y_pred)\n",
    "    print(f\"PARAMS: epoch_num = {epoch}, model = {m.__class__.__name__}, max_len = {max_len}, words_len = {words_len}\")\n",
    "    print(\"LOSS: {:.3f}\".format(m.epoch_loss_test[-1]))\n",
    "    print(\"F1:\", f1)\n",
    "    print(\"ACC:\", acc)\n",
    "    return m, f1, acc"
   ]
  },
  {
   "cell_type": "code",
   "execution_count": 14,
   "metadata": {
    "colab": {
     "base_uri": "https://localhost:8080/"
    },
    "id": "7om0w8JG47mR",
    "outputId": "60d81c5b-a3a1-4232-ffdf-0407e72dcb81"
   },
   "outputs": [
    {
     "name": "stdout",
     "output_type": "stream",
     "text": [
      "\n",
      "Start of epoch 0\n",
      "TRAIN: Loss =1.570, F1 =0.075, ACC = 0.417\n",
      "TEST: Loss =0.532, F1 =0.097, ACC = 0.428\n",
      "\n",
      "Start of epoch 1\n",
      "TRAIN: Loss =1.097, F1 =0.130, ACC = 0.476\n",
      "TEST: Loss =0.782, F1 =0.173, ACC = 0.490\n",
      "\n",
      "Start of epoch 2\n",
      "TRAIN: Loss =1.817, F1 =0.194, ACC = 0.530\n",
      "TEST: Loss =2.494, F1 =0.213, ACC = 0.538\n",
      "\n",
      "Start of epoch 3\n",
      "TRAIN: Loss =1.602, F1 =0.237, ACC = 0.563\n",
      "TEST: Loss =0.964, F1 =0.246, ACC = 0.568\n",
      "\n",
      "Start of epoch 4\n",
      "TRAIN: Loss =1.742, F1 =0.270, ACC = 0.586\n",
      "TEST: Loss =3.599, F1 =0.262, ACC = 0.589\n",
      "\n",
      "Start of epoch 5\n",
      "TRAIN: Loss =1.922, F1 =0.292, ACC = 0.603\n",
      "TEST: Loss =0.642, F1 =0.290, ACC = 0.606\n",
      "\n",
      "Start of epoch 6\n",
      "TRAIN: Loss =1.459, F1 =0.338, ACC = 0.619\n",
      "TEST: Loss =0.099, F1 =0.307, ACC = 0.621\n",
      "\n",
      "Start of epoch 7\n",
      "TRAIN: Loss =1.161, F1 =0.366, ACC = 0.632\n",
      "TEST: Loss =0.052, F1 =0.365, ACC = 0.634\n",
      "\n",
      "Start of epoch 8\n",
      "TRAIN: Loss =0.658, F1 =0.436, ACC = 0.645\n",
      "TEST: Loss =1.743, F1 =0.405, ACC = 0.647\n",
      "\n",
      "Start of epoch 9\n",
      "TRAIN: Loss =0.550, F1 =0.493, ACC = 0.657\n",
      "TEST: Loss =0.356, F1 =0.446, ACC = 0.659\n",
      "PARAMS: epoch_num = 10, model = LSTMModel, max_len = 50, words_len = 500\n",
      "LOSS: 0.356\n",
      "F1: 0.4459904359193973\n",
      "ACC: 0.7281808622502629\n",
      "\n",
      "Start of epoch 0\n",
      "TRAIN: Loss =1.260, F1 =0.081, ACC = 0.420\n",
      "TEST: Loss =1.356, F1 =0.125, ACC = 0.443\n",
      "\n",
      "Start of epoch 1\n",
      "TRAIN: Loss =1.333, F1 =0.142, ACC = 0.497\n",
      "TEST: Loss =0.498, F1 =0.187, ACC = 0.511\n",
      "\n",
      "Start of epoch 2\n",
      "TRAIN: Loss =1.694, F1 =0.242, ACC = 0.550\n",
      "TEST: Loss =2.137, F1 =0.250, ACC = 0.557\n",
      "\n",
      "Start of epoch 3\n",
      "TRAIN: Loss =1.123, F1 =0.305, ACC = 0.587\n",
      "TEST: Loss =1.061, F1 =0.287, ACC = 0.592\n",
      "\n",
      "Start of epoch 4\n",
      "TRAIN: Loss =0.635, F1 =0.351, ACC = 0.616\n",
      "TEST: Loss =0.137, F1 =0.308, ACC = 0.619\n",
      "\n",
      "Start of epoch 5\n",
      "TRAIN: Loss =0.745, F1 =0.391, ACC = 0.639\n",
      "TEST: Loss =0.215, F1 =0.338, ACC = 0.641\n",
      "\n",
      "Start of epoch 6\n",
      "TRAIN: Loss =0.213, F1 =0.434, ACC = 0.658\n",
      "TEST: Loss =0.332, F1 =0.393, ACC = 0.660\n",
      "\n",
      "Start of epoch 7\n",
      "TRAIN: Loss =0.485, F1 =0.518, ACC = 0.676\n",
      "TEST: Loss =0.080, F1 =0.434, ACC = 0.677\n",
      "\n",
      "Start of epoch 8\n",
      "TRAIN: Loss =0.691, F1 =0.570, ACC = 0.691\n",
      "TEST: Loss =0.036, F1 =0.480, ACC = 0.692\n",
      "\n",
      "Start of epoch 9\n",
      "TRAIN: Loss =0.292, F1 =0.615, ACC = 0.704\n",
      "TEST: Loss =0.050, F1 =0.483, ACC = 0.705\n",
      "PARAMS: epoch_num = 10, model = LSTMModel, max_len = 50, words_len = 1000\n",
      "LOSS: 0.050\n",
      "F1: 0.4828190846222604\n",
      "ACC: 0.7407991587802313\n",
      "\n",
      "Start of epoch 0\n",
      "TRAIN: Loss =1.919, F1 =0.093, ACC = 0.422\n",
      "TEST: Loss =1.070, F1 =0.125, ACC = 0.444\n",
      "\n",
      "Start of epoch 1\n",
      "TRAIN: Loss =1.715, F1 =0.130, ACC = 0.492\n",
      "TEST: Loss =0.350, F1 =0.141, ACC = 0.502\n",
      "\n",
      "Start of epoch 2\n",
      "TRAIN: Loss =1.277, F1 =0.213, ACC = 0.541\n",
      "TEST: Loss =2.342, F1 =0.233, ACC = 0.549\n",
      "\n",
      "Start of epoch 3\n",
      "TRAIN: Loss =0.870, F1 =0.319, ACC = 0.584\n",
      "TEST: Loss =1.287, F1 =0.321, ACC = 0.589\n",
      "\n",
      "Start of epoch 4\n",
      "TRAIN: Loss =1.196, F1 =0.415, ACC = 0.620\n",
      "TEST: Loss =0.041, F1 =0.380, ACC = 0.624\n",
      "\n",
      "Start of epoch 5\n",
      "TRAIN: Loss =1.019, F1 =0.499, ACC = 0.649\n",
      "TEST: Loss =1.545, F1 =0.403, ACC = 0.651\n",
      "\n",
      "Start of epoch 6\n",
      "TRAIN: Loss =0.286, F1 =0.584, ACC = 0.673\n",
      "TEST: Loss =2.436, F1 =0.440, ACC = 0.674\n",
      "\n",
      "Start of epoch 7\n",
      "TRAIN: Loss =0.318, F1 =0.641, ACC = 0.693\n",
      "TEST: Loss =0.038, F1 =0.476, ACC = 0.694\n",
      "\n",
      "Start of epoch 8\n",
      "TRAIN: Loss =0.314, F1 =0.713, ACC = 0.710\n",
      "TEST: Loss =2.356, F1 =0.491, ACC = 0.711\n",
      "\n",
      "Start of epoch 9\n",
      "TRAIN: Loss =0.351, F1 =0.750, ACC = 0.725\n",
      "TEST: Loss =0.995, F1 =0.513, ACC = 0.725\n",
      "PARAMS: epoch_num = 10, model = LSTMModel, max_len = 50, words_len = 2000\n",
      "LOSS: 0.995\n",
      "F1: 0.5133323802830475\n",
      "ACC: 0.7271293375394322\n",
      "\n",
      "Start of epoch 0\n",
      "TRAIN: Loss =2.242, F1 =0.091, ACC = 0.366\n",
      "TEST: Loss =1.929, F1 =0.114, ACC = 0.386\n",
      "\n",
      "Start of epoch 1\n",
      "TRAIN: Loss =2.564, F1 =0.104, ACC = 0.425\n",
      "TEST: Loss =0.663, F1 =0.122, ACC = 0.435\n",
      "\n",
      "Start of epoch 2\n",
      "TRAIN: Loss =1.171, F1 =0.124, ACC = 0.461\n",
      "TEST: Loss =1.313, F1 =0.125, ACC = 0.467\n",
      "\n",
      "Start of epoch 3\n",
      "TRAIN: Loss =2.100, F1 =0.128, ACC = 0.482\n",
      "TEST: Loss =1.226, F1 =0.123, ACC = 0.485\n",
      "\n",
      "Start of epoch 4\n",
      "TRAIN: Loss =2.036, F1 =0.124, ACC = 0.491\n",
      "TEST: Loss =0.572, F1 =0.141, ACC = 0.493\n",
      "\n",
      "Start of epoch 5\n",
      "TRAIN: Loss =2.162, F1 =0.131, ACC = 0.498\n",
      "TEST: Loss =2.400, F1 =0.128, ACC = 0.500\n",
      "\n",
      "Start of epoch 6\n",
      "TRAIN: Loss =1.773, F1 =0.131, ACC = 0.504\n",
      "TEST: Loss =0.811, F1 =0.129, ACC = 0.505\n",
      "\n",
      "Start of epoch 7\n",
      "TRAIN: Loss =1.368, F1 =0.143, ACC = 0.509\n",
      "TEST: Loss =1.076, F1 =0.129, ACC = 0.510\n",
      "\n",
      "Start of epoch 8\n",
      "TRAIN: Loss =1.068, F1 =0.148, ACC = 0.514\n",
      "TEST: Loss =1.577, F1 =0.168, ACC = 0.516\n",
      "\n",
      "Start of epoch 9\n",
      "TRAIN: Loss =1.362, F1 =0.154, ACC = 0.519\n",
      "TEST: Loss =0.434, F1 =0.167, ACC = 0.520\n",
      "PARAMS: epoch_num = 10, model = RNNModel, max_len = 50, words_len = 500\n",
      "LOSS: 0.434\n",
      "F1: 0.16716659113521168\n",
      "ACC: 0.5757097791798107\n",
      "\n",
      "Start of epoch 0\n",
      "TRAIN: Loss =1.708, F1 =0.071, ACC = 0.417\n",
      "TEST: Loss =1.970, F1 =0.112, ACC = 0.431\n",
      "\n",
      "Start of epoch 1\n",
      "TRAIN: Loss =0.811, F1 =0.118, ACC = 0.466\n",
      "TEST: Loss =1.277, F1 =0.125, ACC = 0.473\n",
      "\n",
      "Start of epoch 2\n",
      "TRAIN: Loss =1.231, F1 =0.125, ACC = 0.490\n",
      "TEST: Loss =1.276, F1 =0.129, ACC = 0.494\n",
      "\n",
      "Start of epoch 3\n",
      "TRAIN: Loss =1.061, F1 =0.128, ACC = 0.505\n",
      "TEST: Loss =0.596, F1 =0.129, ACC = 0.507\n",
      "\n",
      "Start of epoch 4\n",
      "TRAIN: Loss =1.601, F1 =0.129, ACC = 0.514\n",
      "TEST: Loss =1.010, F1 =0.126, ACC = 0.515\n",
      "\n",
      "Start of epoch 5\n",
      "TRAIN: Loss =1.017, F1 =0.138, ACC = 0.520\n",
      "TEST: Loss =0.274, F1 =0.130, ACC = 0.521\n",
      "\n",
      "Start of epoch 6\n",
      "TRAIN: Loss =2.190, F1 =0.135, ACC = 0.526\n",
      "TEST: Loss =1.036, F1 =0.136, ACC = 0.527\n",
      "\n",
      "Start of epoch 7\n",
      "TRAIN: Loss =2.100, F1 =0.143, ACC = 0.533\n",
      "TEST: Loss =1.912, F1 =0.142, ACC = 0.535\n",
      "\n",
      "Start of epoch 8\n",
      "TRAIN: Loss =1.237, F1 =0.153, ACC = 0.540\n",
      "TEST: Loss =2.667, F1 =0.140, ACC = 0.541\n",
      "\n",
      "Start of epoch 9\n",
      "TRAIN: Loss =2.352, F1 =0.150, ACC = 0.542\n",
      "TEST: Loss =0.561, F1 =0.164, ACC = 0.543\n",
      "PARAMS: epoch_num = 10, model = RNNModel, max_len = 50, words_len = 1000\n",
      "LOSS: 0.561\n",
      "F1: 0.163886485214773\n",
      "ACC: 0.5741324921135647\n",
      "\n",
      "Start of epoch 0\n",
      "TRAIN: Loss =1.970, F1 =0.090, ACC = 0.390\n",
      "TEST: Loss =1.940, F1 =0.059, ACC = 0.396\n",
      "\n",
      "Start of epoch 1\n",
      "TRAIN: Loss =1.505, F1 =0.101, ACC = 0.425\n",
      "TEST: Loss =0.676, F1 =0.115, ACC = 0.432\n",
      "\n",
      "Start of epoch 2\n",
      "TRAIN: Loss =1.810, F1 =0.137, ACC = 0.459\n",
      "TEST: Loss =2.890, F1 =0.151, ACC = 0.464\n",
      "\n",
      "Start of epoch 3\n",
      "TRAIN: Loss =1.719, F1 =0.165, ACC = 0.484\n",
      "TEST: Loss =0.584, F1 =0.157, ACC = 0.487\n",
      "\n",
      "Start of epoch 4\n",
      "TRAIN: Loss =1.142, F1 =0.174, ACC = 0.502\n",
      "TEST: Loss =2.977, F1 =0.154, ACC = 0.503\n",
      "\n",
      "Start of epoch 5\n",
      "TRAIN: Loss =1.217, F1 =0.180, ACC = 0.516\n",
      "TEST: Loss =0.822, F1 =0.158, ACC = 0.516\n",
      "\n",
      "Start of epoch 6\n",
      "TRAIN: Loss =0.839, F1 =0.186, ACC = 0.527\n",
      "TEST: Loss =3.213, F1 =0.156, ACC = 0.527\n",
      "\n",
      "Start of epoch 7\n",
      "TRAIN: Loss =1.174, F1 =0.191, ACC = 0.535\n",
      "TEST: Loss =2.319, F1 =0.171, ACC = 0.535\n",
      "\n",
      "Start of epoch 8\n",
      "TRAIN: Loss =2.069, F1 =0.204, ACC = 0.543\n",
      "TEST: Loss =1.669, F1 =0.163, ACC = 0.543\n",
      "\n",
      "Start of epoch 9\n",
      "TRAIN: Loss =1.431, F1 =0.217, ACC = 0.550\n",
      "TEST: Loss =0.968, F1 =0.166, ACC = 0.550\n",
      "PARAMS: epoch_num = 10, model = RNNModel, max_len = 50, words_len = 2000\n",
      "LOSS: 0.968\n",
      "F1: 0.16625476868977002\n",
      "ACC: 0.5420609884332281\n"
     ]
    }
   ],
   "source": [
    "#experiments\n",
    "models = [LSTMModel, RNNModel]\n",
    "max_lengths = [50] #max_lengths = [50,100]\n",
    "words_lenghts = [500,1000,2000]\n",
    "epoch_num = [10]#epoch_num = [10, 20, 30]\n",
    "result_df = pd.DataFrame(columns=['max_length', 'epochs', 'model', 'words_length', \n",
    "                                  'f1_score', 'accuracy', 'loss'])\n",
    "for model in models:\n",
    "  for epoch in epoch_num:\n",
    "    for max_len in max_lengths:\n",
    "      for words_len in words_lenghts:\n",
    "        m, f1, acc = run_experiments(epoch, model, max_len, words_len)\n",
    "        result_df = result_df.append({'max_length': max_len, \n",
    "                                                  'epochs': epoch, \n",
    "                                                  'model': m.__class__.__name__, \n",
    "                                                  'words_length' : words_len,\n",
    "                                                  'f1_score': f1, \n",
    "                                                  'accuracy': acc, \n",
    "                                                  'loss': m.epoch_loss_test[-1], \n",
    "                                                  }, ignore_index=True)\n",
    "result_df.to_csv('results.csv')"
   ]
  },
  {
   "cell_type": "code",
   "execution_count": null,
   "metadata": {
    "id": "WdvqD9Gz5Foo"
   },
   "outputs": [],
   "source": [
    "result_df.to_csv('results.csv')"
   ]
  },
  {
   "cell_type": "code",
   "execution_count": 15,
   "metadata": {
    "colab": {
     "base_uri": "https://localhost:8080/",
     "height": 227
    },
    "id": "KkU2LtYf4o_q",
    "outputId": "ee454465-4507-4e68-a8cc-4059837c28d9"
   },
   "outputs": [
    {
     "data": {
      "text/html": [
       "<div>\n",
       "<style scoped>\n",
       "    .dataframe tbody tr th:only-of-type {\n",
       "        vertical-align: middle;\n",
       "    }\n",
       "\n",
       "    .dataframe tbody tr th {\n",
       "        vertical-align: top;\n",
       "    }\n",
       "\n",
       "    .dataframe thead th {\n",
       "        text-align: right;\n",
       "    }\n",
       "</style>\n",
       "<table border=\"1\" class=\"dataframe\">\n",
       "  <thead>\n",
       "    <tr style=\"text-align: right;\">\n",
       "      <th></th>\n",
       "      <th>max_length</th>\n",
       "      <th>epochs</th>\n",
       "      <th>model</th>\n",
       "      <th>words_length</th>\n",
       "      <th>f1_score</th>\n",
       "      <th>accuracy</th>\n",
       "      <th>loss</th>\n",
       "    </tr>\n",
       "  </thead>\n",
       "  <tbody>\n",
       "    <tr>\n",
       "      <th>0</th>\n",
       "      <td>50</td>\n",
       "      <td>10</td>\n",
       "      <td>LSTMModel</td>\n",
       "      <td>500</td>\n",
       "      <td>0.445990</td>\n",
       "      <td>0.728181</td>\n",
       "      <td>tf.Tensor(0.35557327, shape=(), dtype=float32)</td>\n",
       "    </tr>\n",
       "    <tr>\n",
       "      <th>1</th>\n",
       "      <td>50</td>\n",
       "      <td>10</td>\n",
       "      <td>LSTMModel</td>\n",
       "      <td>1000</td>\n",
       "      <td>0.482819</td>\n",
       "      <td>0.740799</td>\n",
       "      <td>tf.Tensor(0.050301738, shape=(), dtype=float32)</td>\n",
       "    </tr>\n",
       "    <tr>\n",
       "      <th>2</th>\n",
       "      <td>50</td>\n",
       "      <td>10</td>\n",
       "      <td>LSTMModel</td>\n",
       "      <td>2000</td>\n",
       "      <td>0.513332</td>\n",
       "      <td>0.727129</td>\n",
       "      <td>tf.Tensor(0.9950933, shape=(), dtype=float32)</td>\n",
       "    </tr>\n",
       "    <tr>\n",
       "      <th>3</th>\n",
       "      <td>50</td>\n",
       "      <td>10</td>\n",
       "      <td>RNNModel</td>\n",
       "      <td>500</td>\n",
       "      <td>0.167167</td>\n",
       "      <td>0.575710</td>\n",
       "      <td>tf.Tensor(0.4337808, shape=(), dtype=float32)</td>\n",
       "    </tr>\n",
       "    <tr>\n",
       "      <th>4</th>\n",
       "      <td>50</td>\n",
       "      <td>10</td>\n",
       "      <td>RNNModel</td>\n",
       "      <td>1000</td>\n",
       "      <td>0.163886</td>\n",
       "      <td>0.574132</td>\n",
       "      <td>tf.Tensor(0.5607259, shape=(), dtype=float32)</td>\n",
       "    </tr>\n",
       "    <tr>\n",
       "      <th>5</th>\n",
       "      <td>50</td>\n",
       "      <td>10</td>\n",
       "      <td>RNNModel</td>\n",
       "      <td>2000</td>\n",
       "      <td>0.166255</td>\n",
       "      <td>0.542061</td>\n",
       "      <td>tf.Tensor(0.9679533, shape=(), dtype=float32)</td>\n",
       "    </tr>\n",
       "  </tbody>\n",
       "</table>\n",
       "</div>"
      ],
      "text/plain": [
       "  max_length epochs  ...  accuracy                                             loss\n",
       "0         50     10  ...  0.728181   tf.Tensor(0.35557327, shape=(), dtype=float32)\n",
       "1         50     10  ...  0.740799  tf.Tensor(0.050301738, shape=(), dtype=float32)\n",
       "2         50     10  ...  0.727129    tf.Tensor(0.9950933, shape=(), dtype=float32)\n",
       "3         50     10  ...  0.575710    tf.Tensor(0.4337808, shape=(), dtype=float32)\n",
       "4         50     10  ...  0.574132    tf.Tensor(0.5607259, shape=(), dtype=float32)\n",
       "5         50     10  ...  0.542061    tf.Tensor(0.9679533, shape=(), dtype=float32)\n",
       "\n",
       "[6 rows x 7 columns]"
      ]
     },
     "execution_count": 15,
     "metadata": {
      "tags": []
     },
     "output_type": "execute_result"
    }
   ],
   "source": [
    "result_df"
   ]
  },
  {
   "cell_type": "code",
   "execution_count": null,
   "metadata": {
    "colab": {
     "base_uri": "https://localhost:8080/"
    },
    "id": "r-CKq1QZ5jUY",
    "outputId": "16923904-1bca-4f45-beb7-5b371f2ebbd1"
   },
   "outputs": [
    {
     "name": "stdout",
     "output_type": "stream",
     "text": [
      "\n",
      "Start of epoch 0\n",
      "TRAIN: Loss =1.730, F1 =0.101, ACC = 0.434\n",
      "TEST: Loss =0.645, F1 =0.126, ACC = 0.455\n",
      "\n",
      "Start of epoch 1\n",
      "TRAIN: Loss =1.036, F1 =0.152, ACC = 0.507\n",
      "TEST: Loss =0.186, F1 =0.223, ACC = 0.521\n",
      "\n",
      "Start of epoch 2\n",
      "TRAIN: Loss =1.587, F1 =0.288, ACC = 0.569\n",
      "TEST: Loss =1.661, F1 =0.304, ACC = 0.578\n",
      "\n",
      "Start of epoch 3\n",
      "TRAIN: Loss =1.192, F1 =0.365, ACC = 0.613\n",
      "TEST: Loss =0.108, F1 =0.330, ACC = 0.617\n",
      "\n",
      "Start of epoch 4\n",
      "TRAIN: Loss =0.110, F1 =0.404, ACC = 0.643\n",
      "TEST: Loss =0.812, F1 =0.366, ACC = 0.647\n",
      "\n",
      "Start of epoch 5\n",
      "TRAIN: Loss =0.429, F1 =0.460, ACC = 0.669\n",
      "TEST: Loss =0.492, F1 =0.399, ACC = 0.671\n",
      "\n",
      "Start of epoch 6\n",
      "TRAIN: Loss =1.273, F1 =0.513, ACC = 0.689\n",
      "TEST: Loss =1.110, F1 =0.446, ACC = 0.690\n",
      "\n",
      "Start of epoch 7\n",
      "TRAIN: Loss =0.628, F1 =0.591, ACC = 0.706\n",
      "TEST: Loss =0.053, F1 =0.489, ACC = 0.707\n",
      "\n",
      "Start of epoch 8\n",
      "TRAIN: Loss =0.310, F1 =0.674, ACC = 0.722\n",
      "TEST: Loss =0.036, F1 =0.495, ACC = 0.722\n",
      "\n",
      "Start of epoch 9\n",
      "TRAIN: Loss =0.494, F1 =0.737, ACC = 0.736\n",
      "TEST: Loss =0.412, F1 =0.523, ACC = 0.736\n",
      "\n",
      "Start of epoch 10\n",
      "TRAIN: Loss =0.154, F1 =0.785, ACC = 0.748\n",
      "TEST: Loss =0.448, F1 =0.509, ACC = 0.748\n",
      "\n",
      "Start of epoch 11\n",
      "TRAIN: Loss =0.335, F1 =0.813, ACC = 0.759\n",
      "TEST: Loss =1.891, F1 =0.517, ACC = 0.758\n",
      "\n",
      "Start of epoch 12\n",
      "TRAIN: Loss =0.115, F1 =0.822, ACC = 0.768\n",
      "TEST: Loss =0.530, F1 =0.515, ACC = 0.767\n",
      "\n",
      "Start of epoch 13\n",
      "TRAIN: Loss =0.086, F1 =0.849, ACC = 0.776\n",
      "TEST: Loss =0.031, F1 =0.521, ACC = 0.776\n",
      "\n",
      "Start of epoch 14\n",
      "TRAIN: Loss =0.067, F1 =0.867, ACC = 0.784\n",
      "TEST: Loss =0.101, F1 =0.522, ACC = 0.783\n",
      "PARAMS: epoch_num = 15, model = LSTMModel, max_len = 50, words_len = 2000\n",
      "LOSS: 0.101\n",
      "F1: 0.5220863790148811\n",
      "ACC: 0.7365930599369085\n"
     ]
    }
   ],
   "source": [
    "m, f1, acc = run_experiments(15, LSTMModel, 50, 2000)"
   ]
  },
  {
   "cell_type": "code",
   "execution_count": null,
   "metadata": {
    "colab": {
     "base_uri": "https://localhost:8080/",
     "height": 296
    },
    "id": "DxHpOsN39q_O",
    "outputId": "6558ef1b-de9c-4ff5-af11-20b7e53a9497"
   },
   "outputs": [
    {
     "data": {
      "text/plain": [
       "<matplotlib.legend.Legend at 0x7feb3d0ceb70>"
      ]
     },
     "execution_count": 179,
     "metadata": {
      "tags": []
     },
     "output_type": "execute_result"
    },
    {
     "data": {
      "image/png": "[encoded data removed]",
      "text/plain": [
       "<Figure size 432x288 with 1 Axes>"
      ]
     },
     "metadata": {
      "needs_background": "light",
      "tags": []
     },
     "output_type": "display_data"
    }
   ],
   "source": [
    "plt.plot(m.epoch_loss_train, label = 'train loss')\n",
    "plt.plot(m.epoch_loss_test, label = 'test loss')\n",
    "plt.xlabel('Epoch')\n",
    "plt.ylabel('Loss')\n",
    "plt.legend(loc='lower left')"
   ]
  },
  {
   "cell_type": "code",
   "execution_count": null,
   "metadata": {
    "colab": {
     "base_uri": "https://localhost:8080/",
     "height": 300
    },
    "id": "SDB8Mflp_s-P",
    "outputId": "1ea175e0-7b84-4321-a461-f7bc32341356"
   },
   "outputs": [
    {
     "data": {
      "text/plain": [
       "<matplotlib.legend.Legend at 0x7feaad14c978>"
      ]
     },
     "execution_count": 181,
     "metadata": {
      "tags": []
     },
     "output_type": "execute_result"
    },
    {
     "data": {
      "image/png": "[encoded data removed]",
      "text/plain": [
       "<Figure size 432x288 with 1 Axes>"
      ]
     },
     "metadata": {
      "needs_background": "light",
      "tags": []
     },
     "output_type": "display_data"
    }
   ],
   "source": [
    "plt.plot(m.epoch_f1_train, label = 'train f1')\n",
    "plt.plot(m.epoch_f1_test, label = 'test f1')\n",
    "plt.xlabel('Epoch')\n",
    "plt.ylabel('F1')\n",
    "plt.legend(loc='lower left')"
   ]
  },
  {
   "cell_type": "code",
   "execution_count": 200,
   "metadata": {
    "colab": {
     "base_uri": "https://localhost:8080/"
    },
    "id": "dSuBjaQB__ST",
    "outputId": "99f0316f-9364-4e46-cda8-79bff2f77431"
   },
   "outputs": [
    {
     "name": "stdout",
     "output_type": "stream",
     "text": [
      "\n",
      "Start of epoch 0\n",
      "TRAIN: Loss =1.859, F1 =0.089, ACC = 0.379\n",
      "TEST: Loss =0.951, F1 =0.059, ACC = 0.388\n",
      "\n",
      "Start of epoch 1\n",
      "TRAIN: Loss =1.434, F1 =0.113, ACC = 0.418\n",
      "TEST: Loss =0.385, F1 =0.122, ACC = 0.424\n",
      "\n",
      "Start of epoch 2\n",
      "TRAIN: Loss =1.817, F1 =0.123, ACC = 0.438\n",
      "TEST: Loss =2.613, F1 =0.123, ACC = 0.441\n",
      "\n",
      "Start of epoch 3\n",
      "TRAIN: Loss =1.548, F1 =0.132, ACC = 0.451\n",
      "TEST: Loss =0.461, F1 =0.126, ACC = 0.452\n",
      "\n",
      "Start of epoch 4\n",
      "TRAIN: Loss =1.011, F1 =0.130, ACC = 0.458\n",
      "TEST: Loss =1.461, F1 =0.119, ACC = 0.459\n",
      "\n",
      "Start of epoch 5\n",
      "TRAIN: Loss =1.510, F1 =0.130, ACC = 0.462\n",
      "TEST: Loss =1.068, F1 =0.128, ACC = 0.463\n",
      "\n",
      "Start of epoch 6\n",
      "TRAIN: Loss =1.901, F1 =0.136, ACC = 0.467\n",
      "TEST: Loss =0.851, F1 =0.132, ACC = 0.468\n",
      "\n",
      "Start of epoch 7\n",
      "TRAIN: Loss =1.255, F1 =0.140, ACC = 0.472\n",
      "TEST: Loss =1.978, F1 =0.135, ACC = 0.472\n",
      "\n",
      "Start of epoch 8\n",
      "TRAIN: Loss =1.376, F1 =0.147, ACC = 0.475\n",
      "TEST: Loss =1.197, F1 =0.131, ACC = 0.475\n",
      "\n",
      "Start of epoch 9\n",
      "TRAIN: Loss =0.819, F1 =0.146, ACC = 0.478\n",
      "TEST: Loss =3.205, F1 =0.138, ACC = 0.478\n",
      "\n",
      "Start of epoch 10\n",
      "TRAIN: Loss =1.437, F1 =0.157, ACC = 0.481\n",
      "TEST: Loss =1.020, F1 =0.135, ACC = 0.481\n",
      "\n",
      "Start of epoch 11\n",
      "TRAIN: Loss =0.666, F1 =0.155, ACC = 0.484\n",
      "TEST: Loss =1.550, F1 =0.156, ACC = 0.484\n",
      "\n",
      "Start of epoch 12\n",
      "TRAIN: Loss =1.797, F1 =0.168, ACC = 0.487\n",
      "TEST: Loss =0.471, F1 =0.154, ACC = 0.487\n",
      "\n",
      "Start of epoch 13\n",
      "TRAIN: Loss =0.886, F1 =0.172, ACC = 0.490\n",
      "TEST: Loss =0.449, F1 =0.165, ACC = 0.490\n",
      "\n",
      "Start of epoch 14\n",
      "TRAIN: Loss =1.070, F1 =0.174, ACC = 0.492\n",
      "TEST: Loss =0.466, F1 =0.147, ACC = 0.492\n",
      "PARAMS: epoch_num = 15, model = RNNModel, max_len = 50, words_len = 2000\n",
      "LOSS: 0.466\n",
      "F1: 0.1471509358352573\n",
      "ACC: 0.482124079915878\n"
     ]
    }
   ],
   "source": [
    "m, f1, acc = run_experiments(15, RNNModel, 50, 2000)"
   ]
  },
  {
   "cell_type": "code",
   "execution_count": 201,
   "metadata": {
    "colab": {
     "base_uri": "https://localhost:8080/",
     "height": 296
    },
    "id": "veO5HQdcCmYl",
    "outputId": "1245f5a8-aa0d-4211-bcef-96abb67e598a"
   },
   "outputs": [
    {
     "data": {
      "text/plain": [
       "<matplotlib.legend.Legend at 0x7feaac7c7ba8>"
      ]
     },
     "execution_count": 201,
     "metadata": {
      "tags": []
     },
     "output_type": "execute_result"
    },
    {
     "data": {
      "image/png": "[encoded data removed]",
      "text/plain": [
       "<Figure size 432x288 with 1 Axes>"
      ]
     },
     "metadata": {
      "needs_background": "light",
      "tags": []
     },
     "output_type": "display_data"
    }
   ],
   "source": [
    "plt.plot(m.epoch_loss_train, label = 'train loss')\n",
    "plt.plot(m.epoch_loss_test, label = 'test loss')\n",
    "plt.xlabel('Epoch')\n",
    "plt.ylabel('Loss')\n",
    "plt.legend(loc='lower left')"
   ]
  },
  {
   "cell_type": "code",
   "execution_count": 202,
   "metadata": {
    "colab": {
     "base_uri": "https://localhost:8080/",
     "height": 301
    },
    "id": "umcUUiNHCrcG",
    "outputId": "5003446c-23df-4a25-9b31-0905aaf3019e"
   },
   "outputs": [
    {
     "data": {
      "text/plain": [
       "<matplotlib.legend.Legend at 0x7feabede2358>"
      ]
     },
     "execution_count": 202,
     "metadata": {
      "tags": []
     },
     "output_type": "execute_result"
    },
    {
     "data": {
      "image/png": "[encoded data removed]",
      "text/plain": [
       "<Figure size 432x288 with 1 Axes>"
      ]
     },
     "metadata": {
      "needs_background": "light",
      "tags": []
     },
     "output_type": "display_data"
    }
   ],
   "source": [
    "plt.plot(m.epoch_f1_train, label = 'train f1')\n",
    "plt.plot(m.epoch_f1_test, label = 'test f1')\n",
    "plt.xlabel('Epoch')\n",
    "plt.ylabel('F1')\n",
    "plt.legend(loc='lower left')"
   ]
  },
  {
   "cell_type": "markdown",
   "metadata": {
    "id": "YswY6-9ECxEm"
   },
   "source": [
    "**Podsumowanie**\n",
    "\n",
    "**Wyniki**\n",
    "\n",
    "**Sieć RNN**\n",
    "\n",
    "- FScore podczas eksperymentów osiągał maksymalnie 25%\n",
    "- Eksperyment przeprowadzony na takich samych parametrach jak LSTM - FScore = 15%\n",
    "\n",
    "**Sieć LSTM**\n",
    "\n",
    "- Najlepszy osiągnięty FScore dla optymalnych parametrów = 52%\n",
    "- Najlepsze znalezione parametry liczba epok = 15, liczba słów = 2000, dł wektora = 50\n",
    "\n",
    "**Wpływ długości słownika**\n",
    "\n",
    "- Testowane długości : [500, 1000, 2000]\n",
    "- Wyniki na testowanych dlugościach są bardzo podobne\n",
    "- Zmniejszając liczbę słów powinno się odpowiednio zmniejszać liczbę epok, by nie doszło do przeuczenia\n",
    "- Długości < 500 sprawdzały się słabo\n",
    "\n",
    "**Wnioski ogólne**\n",
    "\n",
    "- accuracy nie jest dobrą miarą w przypadku tego zbioru\n",
    "- wyniki LSTM są znacząco lepsze\n",
    "- uczenie LSTM trwa dłużej"
   ]
  },
  {
   "cell_type": "code",
   "execution_count": null,
   "metadata": {},
   "outputs": [],
   "source": []
  }
 ],
 "metadata": {
  "accelerator": "GPU",
  "colab": {
   "collapsed_sections": [],
   "name": "Untitled2.ipynb",
   "provenance": []
  },
  "kernelspec": {
   "display_name": "Python 3",
   "language": "python",
   "name": "python3"
  },
  "language_info": {
   "codemirror_mode": {
    "name": "ipython",
    "version": 3
   },
   "file_extension": ".py",
   "mimetype": "text/x-python",
   "name": "python",
   "nbconvert_exporter": "python",
   "pygments_lexer": "ipython3",
   "version": "3.7.4"
  }
 },
 "nbformat": 4,
 "nbformat_minor": 1
}
